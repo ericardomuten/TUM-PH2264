{
 "cells": [
  {
   "cell_type": "code",
   "execution_count": 1,
   "metadata": {
    "tags": []
   },
   "outputs": [],
   "source": [
    "import numpy as np\n",
    "from scipy import integrate\n",
    "import matplotlib.pyplot as plt"
   ]
  },
  {
   "cell_type": "code",
   "execution_count": 2,
   "metadata": {
    "tags": []
   },
   "outputs": [],
   "source": [
    "def f(x):\n",
    "    return (np.exp(-1.*x))/(1.+(x-1.)**2)"
   ]
  },
  {
   "cell_type": "code",
   "execution_count": 3,
   "metadata": {
    "tags": []
   },
   "outputs": [],
   "source": [
    "# a)\n",
    "def monte_carlo_naive(a,b,num=int(1e6),bins=50):\n",
    "    def estimate_I():\n",
    "        xs = np.random.uniform(a, b, (num,))\n",
    "        ys = f(xs)\n",
    "        return (b-a) * np.mean(ys)\n",
    "    Is =[estimate_I() for i in range(bins)]\n",
    "    return np.mean(Is), np.std(Is)"
   ]
  },
  {
   "cell_type": "code",
   "execution_count": 4,
   "metadata": {
    "collapsed": false,
    "jupyter": {
     "outputs_hidden": false
    }
   },
   "outputs": [
    {
     "name": "stdout",
     "output_type": "stream",
     "text": [
      "First estimate      I:  0.6962950471506253  sigma:  0.001634116871696304\n",
      "Build-in integrator I:  0.6960913664575288\n"
     ]
    }
   ],
   "source": [
    "a = 0. \n",
    "b = 10.\n",
    "I1, sigma1 = monte_carlo_naive(a,b)\n",
    "I, err = integrate.quad(f,a,b)\n",
    "print(\"First estimate      I: \", I1, \" sigma: \", sigma1, flush=True)\n",
    "print(\"Build-in integrator I: \", I, flush=True)"
   ]
  },
  {
   "cell_type": "code",
   "execution_count": 5,
   "metadata": {
    "collapsed": false,
    "jupyter": {
     "outputs_hidden": false
    }
   },
   "outputs": [],
   "source": [
    "# b)\n",
    "def g(x,alpha):\n",
    "    return alpha * np.exp(-alpha*x)"
   ]
  },
  {
   "cell_type": "code",
   "execution_count": 6,
   "metadata": {
    "tags": []
   },
   "outputs": [],
   "source": [
    "# Obtain a good value for alpha:\n",
    "def optimize_alpha(a,b, num=int(1e6) ):\n",
    "    \n",
    "    xs = np.random.uniform(a,b,(num,))\n",
    "    fs = f(xs)\n",
    "    \n",
    "    var = []\n",
    "    alphas = np.arange(0.3,2.,0.01)\n",
    "    for alpha in alphas:\n",
    "        gs = g(xs,alpha)\n",
    "        var.append( np.var(fs/gs) ) \n",
    "        \n",
    "    plt.figure()\n",
    "    plt.semilogy(alphas,var)\n",
    "    plt.xlabel(r\"$\\alpha$\")\n",
    "    plt.ylabel(\"Variance\")\n",
    "    plt.show()\n",
    "        \n",
    "    alpha_best = alphas[ np.argmin(var) ]\n",
    "    return alpha_best"
   ]
  },
  {
   "cell_type": "code",
   "execution_count": 7,
   "metadata": {
    "collapsed": false,
    "jupyter": {
     "outputs_hidden": false
    }
   },
   "outputs": [
    {
     "data": {
      "image/png": "[encoded data removed]",
      "text/plain": [
       "<Figure size 432x288 with 1 Axes>"
      ]
     },
     "metadata": {
      "needs_background": "light"
     },
     "output_type": "display_data"
    },
    {
     "name": "stdout",
     "output_type": "stream",
     "text": [
      "Best alpha:  1.46\n"
     ]
    }
   ],
   "source": [
    "alpha_best = optimize_alpha(a,b)\n",
    "print(\"Best alpha: \", np.round(alpha_best, 2), flush=True)"
   ]
  },
  {
   "cell_type": "code",
   "execution_count": 8,
   "metadata": {
    "collapsed": false,
    "jupyter": {
     "outputs_hidden": false
    }
   },
   "outputs": [
    {
     "data": {
      "image/png": "[encoded data removed]",
      "text/plain": [
       "<Figure size 432x288 with 1 Axes>"
      ]
     },
     "metadata": {
      "needs_background": "light"
     },
     "output_type": "display_data"
    }
   ],
   "source": [
    "# Compare f and pdf g explicitly\n",
    "x = np.linspace(a,b,1000)\n",
    "plt.figure()\n",
    "plt.plot(x,f(x),label=r\"$f(x)$\")\n",
    "plt.plot(x,g(x,alpha_best),label=r\"$g(x)$\")\n",
    "plt.legend()\n",
    "plt.show()"
   ]
  },
  {
   "cell_type": "code",
   "execution_count": 9,
   "metadata": {
    "tags": []
   },
   "outputs": [],
   "source": [
    "def G_inverse(x,alpha):\n",
    "     return -1.*np.log(1-x) / alpha\n",
    "    \n",
    "def monte_carlo(alpha,num=int(1e6),bins=50):\n",
    "    def estimate_I():\n",
    "        r = np.random.rand(num)\n",
    "        est = f( G_inverse(r, alpha)) / g( G_inverse(r, alpha), alpha)\n",
    "        return np.mean(est)\n",
    "    Is =[estimate_I() for i in range(bins)]\n",
    "    return np.mean(Is), np.std(Is)"
   ]
  },
  {
   "cell_type": "code",
   "execution_count": 10,
   "metadata": {
    "collapsed": false,
    "jupyter": {
     "outputs_hidden": false
    }
   },
   "outputs": [
    {
     "name": "stdout",
     "output_type": "stream",
     "text": [
      "First estimate      I:  0.6962950471506253  sigma:  0.001634116871696304\n",
      "Second estimate     I:  0.6961281703540857  sigma:  0.0003145706135395162\n",
      "Build-in integrator I:  0.6960913664575288\n"
     ]
    }
   ],
   "source": [
    "I2, sigma2 = monte_carlo(alpha_best)\n",
    "print(\"First estimate      I: \",I1, \" sigma: \",sigma1, flush=True)\n",
    "print(\"Second estimate     I: \",I2, \" sigma: \",sigma2, flush=True)\n",
    "print(\"Build-in integrator I: \",I,flush=True)"
   ]
  },
  {
   "cell_type": "markdown",
   "metadata": {},
   "source": [
    "Note that the error decreases by one order of magnitude when importance sampling is used."
   ]
  }
 ],
 "metadata": {
  "kernelspec": {
   "display_name": "Python 3 (ipykernel)",
   "language": "python",
   "name": "python3"
  },
  "language_info": {
   "codemirror_mode": {
    "name": "ipython",
    "version": 3
   },
   "file_extension": ".py",
   "mimetype": "text/x-python",
   "name": "python",
   "nbconvert_exporter": "python",
   "pygments_lexer": "ipython3",
   "version": "3.10.4"
  }
 },
 "nbformat": 4,
 "nbformat_minor": 4
}
