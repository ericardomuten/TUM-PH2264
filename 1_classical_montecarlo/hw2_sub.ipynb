{
 "cells": [
  {
   "attachments": {},
   "cell_type": "markdown",
   "metadata": {},
   "source": [
    "# Tutorial 2"
   ]
  },
  {
   "cell_type": "code",
   "execution_count": 169,
   "metadata": {},
   "outputs": [],
   "source": [
    "import numpy as np\n",
    "from scipy.sparse import csr_matrix\n",
    "from scipy.sparse.csgraph import connected_components\n",
    "from matplotlib import pyplot as plt"
   ]
  },
  {
   "attachments": {},
   "cell_type": "markdown",
   "metadata": {},
   "source": [
    "## Exercise 2: Swendsen-Wang algorithm for the 2D Ising model"
   ]
  },
  {
   "attachments": {},
   "cell_type": "markdown",
   "metadata": {},
   "source": [
    "The goal of this exercise is to implement the Swendsen-Wang algorithm for the 2D Ising model. Recall that the update of the Swendsen-Wang algorithm works as follows:\n",
    "- Assign to each bond $b$ a variable $w_b \\in\\{0,1\\}$, where 1 means \"connected\" and 0 means \"disconnected\". If the spins connected by the bond $b=(n, m)$ between index $n$ and $m$ are anti-parallel, always choose $w_b=0$, If the spins are parallel, choose $w_b=0$ with probability $e^{-2 \\beta J}$, where $\\beta=\\frac{1}{k_B T}$. In terms of conditional probabilities:\n",
    "$$\n",
    "\\begin{array}{ll}\n",
    "p\\left(w_b=0 \\mid \\sigma_n \\neq \\sigma_m\\right)=1, & p\\left(w_b=0 \\mid \\sigma_n=\\sigma_m\\right)=e^{-2 \\beta J}, \\\\\n",
    "p\\left(w_b=1 \\mid \\sigma_n \\neq \\sigma_m\\right)=0, & p\\left(w_b=1 \\mid \\sigma_n=\\sigma_m\\right)=1 .-e^{-2 \\beta J} .\n",
    "\\end{array}\n",
    "$$\n",
    "- Interpreting the connected bonds as edges of a graph (where 0 means no edge) and the spins as node, find \"clusters\" of spins, i.e., connected components of the graph.\n",
    "- Flip each cluster (= connected component) with probability $p=0.5$. Notice that a single spin is also a \"cluster\".\n",
    "\n",
    "After the update, do a measurement (if the system is already thermalized) and continue with the next update."
   ]
  },
  {
   "attachments": {},
   "cell_type": "markdown",
   "metadata": {},
   "source": [
    "a) Setup the system by writing these three functions\n",
    "- def $x y \\_2 \\_i d x($ int $x$, int $y) \\rightarrow$ int idx\n",
    "- def idx_2_xy(int $i d x) \\rightarrow$ int $x$, int $y$\n",
    "- def create_bond_indices(int Lx, int Ly) $\\rightarrow$ list bond_indices\n",
    "Since we need to identify clusters, it is better to label the lattice sites $(x, y)$ by a single integer number $n=n(x, y)=x \\cdot L_y+y=0,1, \\cdots, N-1$ where $N=L_x \\cdot L_y$. The inverse mapping is given by $x(n)=n / / L_y$ (integer division, rounding down) and $y(n)=n \\bmod L_y$. Create an array that contains the indices of each bond $(n, m)$ of the square lattice with periodic boundary conditions exactly once. There are in totals $2\\mathrm{N}$ bonds and we indicate each bond by two indices. The array for bond indices is just for keeping track of the indices of the bond and is immutable. It should not be confused with the bond configuration, i.e. each bond connected or not. The array for bond indices should have shape $(2 N, 2)$, e.g.\n",
    "$$\n",
    "\\overbrace{\\left(\\begin{array}{cc}\n",
    "0, & 1 \\\\\n",
    "1, & 2 \\\\\n",
    "\\vdots & \\vdots \\\\\n",
    "L_y-1 & 0 \\\\\n",
    "\\vdots & \\vdots\n",
    "\\end{array}\\right)}^{\\text {size }=2}\n",
    "$$"
   ]
  },
  {
   "cell_type": "code",
   "execution_count": 6,
   "metadata": {},
   "outputs": [],
   "source": [
    "def xy_2_idx(x, y, Ly):\n",
    "    return x*Ly + y\n",
    "\n",
    "def idx_2_xy(idx, Ly):\n",
    "    return int(np.floor(idx/Ly)), idx%Ly"
   ]
  },
  {
   "cell_type": "code",
   "execution_count": 13,
   "metadata": {},
   "outputs": [],
   "source": [
    "def create_bond_indices(Lx, Ly):\n",
    "    \n",
    "    bond_indices = []\n",
    "\n",
    "    # horizontal connection\n",
    "    for i in range(Lx):\n",
    "        for j in range(Ly):\n",
    "            bond_indices += [[xy_2_idx(i, j, Ly), xy_2_idx(i, (j+1)%Ly, Ly)]]\n",
    "\n",
    "    # vertical connection\n",
    "    for i in range(Ly):\n",
    "        for j in range(Lx):\n",
    "            bond_indices += [[xy_2_idx(j, i, Lx), xy_2_idx((j+1)%Lx, i, Lx)]]\n",
    "    \n",
    "    return np.array(bond_indices)"
   ]
  },
  {
   "cell_type": "code",
   "execution_count": 20,
   "metadata": {},
   "outputs": [
    {
     "name": "stdout",
     "output_type": "stream",
     "text": [
      "[[ 0  1]\n",
      " [ 1  2]\n",
      " [ 2  3]\n",
      " [ 3  4]\n",
      " [ 4  0]\n",
      " [ 5  6]\n",
      " [ 6  7]\n",
      " [ 7  8]\n",
      " [ 8  9]\n",
      " [ 9  5]\n",
      " [10 11]\n",
      " [11 12]\n",
      " [12 13]\n",
      " [13 14]\n",
      " [14 10]\n",
      " [15 16]\n",
      " [16 17]\n",
      " [17 18]\n",
      " [18 19]\n",
      " [19 15]\n",
      " [ 0  4]\n",
      " [ 4  8]\n",
      " [ 8 12]\n",
      " [12  0]\n",
      " [ 1  5]\n",
      " [ 5  9]\n",
      " [ 9 13]\n",
      " [13  1]\n",
      " [ 2  6]\n",
      " [ 6 10]\n",
      " [10 14]\n",
      " [14  2]\n",
      " [ 3  7]\n",
      " [ 7 11]\n",
      " [11 15]\n",
      " [15  3]\n",
      " [ 4  8]\n",
      " [ 8 12]\n",
      " [12 16]\n",
      " [16  4]]\n",
      "(40, 2)\n",
      "True\n"
     ]
    }
   ],
   "source": [
    "# Testing the functions\n",
    "\n",
    "Lx = 4\n",
    "Ly = 5\n",
    "N = Lx*Ly\n",
    "\n",
    "print(create_bond_indices(Lx,Ly))\n",
    "print(create_bond_indices(Lx,Ly).shape)\n",
    "print(create_bond_indices(Lx,Ly).shape == (2*N, 2))"
   ]
  },
  {
   "attachments": {},
   "cell_type": "markdown",
   "metadata": {},
   "source": [
    "b) Initialize a 1D array for the spin states $\\sigma_n$ (having random entries $\\pm 1$ )."
   ]
  },
  {
   "cell_type": "code",
   "execution_count": 40,
   "metadata": {},
   "outputs": [
    {
     "data": {
      "text/plain": [
       "(array([ 1, -1, -1, -1,  1,  1, -1, -1,  1, -1, -1, -1,  1,  1,  1,  1, -1,\n",
       "        -1,  1, -1]),\n",
       " (20,))"
      ]
     },
     "execution_count": 40,
     "metadata": {},
     "output_type": "execute_result"
    }
   ],
   "source": [
    "spin_config = np.random.randint(2, size=Lx*Ly)*2-1\n",
    "spin_config, spin_config.shape"
   ]
  },
  {
   "attachments": {},
   "cell_type": "markdown",
   "metadata": {},
   "source": [
    "c) Write a function that determines, i.e. sample, the bond configuration $w_b$ for each of the bonds, given the spin configuration.\n",
    "def update_bond_config(np.ndarray spin_config, np.ndarray bond_indices, float $\\mathrm{T}$ ) $\\rightarrow$ np.ndarray bond_config"
   ]
  },
  {
   "cell_type": "code",
   "execution_count": 51,
   "metadata": {},
   "outputs": [],
   "source": [
    "def cond_prob(sigma_n, sigma_m, T):\n",
    "    if sigma_n != sigma_m:\n",
    "        return 0\n",
    "    \n",
    "    else:\n",
    "        k = 1\n",
    "        beta = 1/(k*T)\n",
    "        J = 1\n",
    "        if np.exp(-2*beta*J) > np.random.rand():\n",
    "            return 0\n",
    "        else:\n",
    "            return 1"
   ]
  },
  {
   "cell_type": "code",
   "execution_count": 67,
   "metadata": {},
   "outputs": [],
   "source": [
    "def update_bond_config(spin_config, bond_indices, T):\n",
    "\n",
    "    bond_config = []\n",
    "    # iterate for every bond (edge)\n",
    "    for i in range(bond_indices.shape[0]):\n",
    "        # the spin state for both of the spins connected in this particular bond\n",
    "        sigma_n = spin_config[bond_indices[i][0]]\n",
    "        sigma_m = spin_config[bond_indices[i][1]]\n",
    "\n",
    "        # using the conditional probability defined, determine whether the bond is \"connected\" or \"disconnected\"\n",
    "        bond_config += [cond_prob(sigma_n, sigma_m, T)]\n",
    "\n",
    "    return np.array(bond_config)"
   ]
  },
  {
   "cell_type": "code",
   "execution_count": 137,
   "metadata": {},
   "outputs": [
    {
     "name": "stdout",
     "output_type": "stream",
     "text": [
      "[-1  1 -1 -1 -1 -1 -1 -1 -1 -1  1 -1 -1 -1  1  1  1 -1  1  1]\n",
      "(40,)\n",
      "[0 0 0 0 0 0 0 0 1 0 0 0 0 0 0 1 0 0 0 0 0 0 0 1 0 0 0 0 0 0 1 0 0 0 0 0 0\n",
      " 0 0 0]\n"
     ]
    }
   ],
   "source": [
    "# Testing the functions\n",
    "\n",
    "Lx = 4\n",
    "Ly = 5\n",
    "N = Lx*Ly\n",
    "T = 10\n",
    "\n",
    "spin_config = np.random.randint(2, size=Lx*Ly)*2-1\n",
    "print(spin_config)\n",
    "bond_config = update_bond_config(spin_config, bond_indices=create_bond_indices(Lx,Ly), T=T)\n",
    "print(bond_config.shape)\n",
    "print(bond_config)"
   ]
  },
  {
   "attachments": {},
   "cell_type": "markdown",
   "metadata": {},
   "source": [
    "d) To determine the connected components, you can use the function scipy.sparse.csgraph.connected_components. Look up the documentation of the function online. The graph is represented by a sparse matrix of the type scipy.sparse.csr_matrix. You can use the initialization of the form csr_matrix((bond_config, (bond_indices $[:, 0]$, bond_indices $[:, 1])$ ), shape=(N, N)). Don't forget to add the transposed to obtain a symmetric graph. Using the result of connected_components, flip each of the determined clusters with probability $p=0.5$. Collect the code in a function performing one update with the Swendsen-Wang algorithm."
   ]
  },
  {
   "cell_type": "code",
   "execution_count": 133,
   "metadata": {},
   "outputs": [],
   "source": [
    "def swendsen_wang_update(spin_config, bond_indices, T, Lx, Ly):\n",
    "\n",
    "    spin_config_new = spin_config.copy()\n",
    "    \n",
    "    N = Lx*Ly\n",
    "\n",
    "    # sampling the bond config\n",
    "    bond_config = update_bond_config(spin_config, bond_indices, T)\n",
    "\n",
    "    # identify clusters of connected spins\n",
    "    csr_graph = csr_matrix((bond_config, (bond_indices[:, 0], bond_indices[:, 1])), shape=(N,N))\n",
    "    csr_graph = csr_graph + csr_graph.transpose()\n",
    "\n",
    "    n_clusters, labels = connected_components(csgraph=csr_graph, directed=False, return_labels=True)\n",
    "\n",
    "    # for each cluster, flip the all the spins inside that cluster with probability 0.5\n",
    "    for i in range(n_clusters):\n",
    "        if np.random.rand() < 0.5:\n",
    "            spin_config_new[labels==i] = spin_config[labels==i]*-1\n",
    "\n",
    "    return spin_config_new"
   ]
  },
  {
   "cell_type": "code",
   "execution_count": 140,
   "metadata": {},
   "outputs": [
    {
     "name": "stdout",
     "output_type": "stream",
     "text": [
      "[-1  1  1 -1  1  1  1  1  1]\n",
      "  (2, 8)\t1\n",
      "  (6, 7)\t1\n",
      "  (7, 6)\t1\n",
      "  (7, 8)\t1\n",
      "  (8, 2)\t1\n",
      "  (8, 7)\t1\n"
     ]
    }
   ],
   "source": [
    "# Test the code\n",
    "\n",
    "Lx = 3\n",
    "Ly = 3\n",
    "N = Lx*Ly\n",
    "T = 10\n",
    "\n",
    "spin_config_init = np.random.randint(2, size=Lx*Ly)*2-1\n",
    "bond_indices = create_bond_indices(Lx,Ly)\n",
    "bond_config = update_bond_config(spin_config, bond_indices=create_bond_indices(Lx,Ly), T=T)\n",
    "\n",
    "csr_graph = csr_matrix((bond_config, (bond_indices[:, 0], bond_indices[:, 1])), shape=(N,N))\n",
    "csr_graph = csr_graph + csr_graph.transpose()\n",
    "\n",
    "print(spin_config_init)\n",
    "print(csr_graph)"
   ]
  },
  {
   "cell_type": "code",
   "execution_count": 141,
   "metadata": {},
   "outputs": [
    {
     "data": {
      "text/plain": [
       "array([ 1,  1,  1,  1, -1, -1,  1,  1,  1])"
      ]
     },
     "execution_count": 141,
     "metadata": {},
     "output_type": "execute_result"
    }
   ],
   "source": [
    "# Update it once\n",
    "\n",
    "swendsen_wang_update(spin_config_init, bond_indices, T, Lx, Ly)"
   ]
  },
  {
   "attachments": {},
   "cell_type": "markdown",
   "metadata": {},
   "source": [
    "e) Write functions to measure the energy and magnetization."
   ]
  },
  {
   "cell_type": "code",
   "execution_count": 144,
   "metadata": {},
   "outputs": [],
   "source": [
    "# function to determine all the neighbouring sites' index given a certain site index\n",
    "# to avoid double counting, \"neighbour\" here is define as the sites below and to the right of a certain site\n",
    "\n",
    "def neighbour(idx, Ly):\n",
    "\n",
    "    neighbouring_idx = []\n",
    "\n",
    "    # the coordinate of the site\n",
    "    x, y = idx_2_xy(idx, Ly)\n",
    "\n",
    "    # the index of the neighbouring sites\n",
    "    # the index for the one to the right\n",
    "    neighbouring_idx += [xy_2_idx(x, (y+1)%Ly, Ly)]\n",
    "    # the index for the one below\n",
    "    neighbouring_idx += [xy_2_idx((x+1)%Lx, y, Ly)]\n",
    "\n",
    "    return neighbouring_idx"
   ]
  },
  {
   "cell_type": "code",
   "execution_count": 149,
   "metadata": {},
   "outputs": [],
   "source": [
    "def energy(spin_config, Ly):\n",
    "    \n",
    "    J = 1\n",
    "    \n",
    "    E = 0\n",
    "    # iterate for all spin sites\n",
    "    for i in range(len(spin_config)):\n",
    "        neighbouring_sites = neighbour(i, Ly)\n",
    "        E += -1.*J*spin_config[i]*(spin_config[neighbouring_sites[0]] + spin_config[neighbouring_sites[1]])\n",
    "    \n",
    "    return E"
   ]
  },
  {
   "cell_type": "code",
   "execution_count": 155,
   "metadata": {},
   "outputs": [],
   "source": [
    "def magnetization(spin_config, Lx, Ly):\n",
    "\n",
    "    M = np.sum(spin_config)/(Lx*Ly)\n",
    "\n",
    "    return M"
   ]
  },
  {
   "cell_type": "code",
   "execution_count": 159,
   "metadata": {},
   "outputs": [
    {
     "name": "stdout",
     "output_type": "stream",
     "text": [
      "3 3\n",
      "[-1  1  1 -1  1  1  1  1  1]\n",
      "-6.0 0.5555555555555556\n"
     ]
    }
   ],
   "source": [
    "# Test the code\n",
    "\n",
    "print(Lx, Ly)\n",
    "print(spin_config_init)\n",
    "\n",
    "print(energy(spin_config_init, Ly), magnetization(spin_config_init, Lx, Ly))"
   ]
  },
  {
   "attachments": {},
   "cell_type": "markdown",
   "metadata": {},
   "source": [
    "f) Write a function to run the whole Monte Carlo simulation at given temperature, returning arrays with all measured values $E$ and $M$. Plot the mean values for different temperatures and make sure you get (roughly) the same results as last week. (Begin the comparison with small systems!)"
   ]
  },
  {
   "cell_type": "code",
   "execution_count": 166,
   "metadata": {},
   "outputs": [],
   "source": [
    "def swendsen_wang_loop(spin_config, bond_indices, T, Lx, Ly, N_sweeps, N_eq, N_flips):\n",
    "    \n",
    "    E_list = []\n",
    "    M_list = []\n",
    "\n",
    "    for step in range(N_sweeps + N_eq):\n",
    "        spin_config = swendsen_wang_update(spin_config, bond_indices, T, Lx, Ly)\n",
    "\n",
    "        if step >= N_eq and np.mod(step, N_flips) == 0:\n",
    "            # measurement\n",
    "            E = energy(spin_config, Ly)\n",
    "            M = magnetization(spin_config, Lx, Ly)\n",
    "            E_list.append(E)\n",
    "            M_list.append(M)\n",
    "\n",
    "    return spin_config, np.array(E_list), np.array(M_list)"
   ]
  },
  {
   "cell_type": "code",
   "execution_count": 167,
   "metadata": {},
   "outputs": [
    {
     "name": "stdout",
     "output_type": "stream",
     "text": [
      "1.5 [-17.607999999999997, 0.018101933598375662] [0.030177777777777776, 0.015117181787131659]\n",
      "1.6 [-17.287200000000002, 0.028787775183226737] [-0.024133333333333336, 0.010539997891629557]\n",
      "1.7000000000000002 [-17.0688, 0.021797614548385722] [0.011200000000000003, 0.01118072415331818]\n",
      "1.8000000000000003 [-16.7208, 0.05060213434233797] [0.014755555555555558, 0.010917205810831332]\n",
      "1.9000000000000004 [-16.378400000000003, 0.04975524092997663] [0.01008888888888889, 0.01162611789394683]\n",
      "2.0000000000000004 [-15.893600000000001, 0.0706364212003977] [0.018711111111111105, 0.011723809265921366]\n",
      "2.1000000000000005 [-15.359200000000001, 0.042157039744270416] [0.014755555555555558, 0.012118069356884848]\n",
      "2.2000000000000006 [-14.868799999999998, 0.06777090821289022] [0.007333333333333336, 0.00788090362682533]\n",
      "2.3000000000000007 [-14.339200000000002, 0.050459647244109875] [0.007244444444444444, 0.008428769076688963]\n",
      "2.400000000000001 [-13.895199999999999, 0.07911065667784588] [-0.015377777777777777, 0.00887113783117775]\n",
      "2.500000000000001 [-13.238400000000002, 0.0975855727041656] [-0.0033333333333333353, 0.008510908033550563]\n",
      "2.600000000000001 [-12.5368, 0.1016626578444613] [-0.01728888888888889, 0.010482568717331657]\n",
      "2.700000000000001 [-12.043999999999999, 0.09173352713157816] [0.000933333333333336, 0.01295545263919481]\n",
      "2.800000000000001 [-11.604000000000001, 0.08677142386753843] [-0.0074666666666666675, 0.011026844908765848]\n",
      "2.9000000000000012 [-10.9368, 0.07939329946538305] [0.0028444444444444446, 0.011026916563069157]\n",
      "3.0000000000000013 [-10.432799999999999, 0.09445727076302814] [0.009422222222222222, 0.00977511074737554]\n"
     ]
    }
   ],
   "source": [
    "# Set parameters here\n",
    "Lx = 3\n",
    "Ly = 3\n",
    "N_sweeps = 5000  # Number of steps for the measurements = number of steps to be done after N_eq is reached\n",
    "N_eq = 1000  # Number of equilibration steps before the measurements start = wait until this much iteration first before doing the 1st measurement\n",
    "N_flips = 10  # Number of steps between measurements = after N_eq is reached, do measurement every N_flips steps\n",
    "N_bins = 10  # Number of bins use for the error analysis = do this much time and average the result to get a better estimation for the value (reducing statistical error)\n",
    "T_range = np.arange(1.5, 3.1, 0.1) # temperature of the system, [1.5, 3.1) with 0.1 increment\n",
    "\n",
    "spin_config = np.random.randint(2, size=Lx*Ly)*2-1\n",
    "bond_indices = create_bond_indices(Lx,Ly)\n",
    "\n",
    "# do iteration for every temperature chosen\n",
    "E_list = []\n",
    "M_list = []\n",
    "for T in T_range:\n",
    "    # for every temperature, do the loop for N_bins times and calculate the average\n",
    "    E_list_bin = []\n",
    "    M_list_bin = []\n",
    "    for k in range(N_bins):\n",
    "            # do the Swendsen-Wang algo, get the system energy & magnetization from every measurement\n",
    "            spin_config, Es, Ms = swendsen_wang_loop(spin_config, bond_indices, T, Lx, Ly, N_sweeps, N_eq, N_flips)\n",
    "\n",
    "            # averaging all the measurement\n",
    "            mean_E = np.mean(Es)\n",
    "            mean_M = np.mean(Ms)\n",
    "            #mean_E2 = np.mean(Es**2)\n",
    "            #mean_M2 = np.mean(Ms**2)\n",
    "\n",
    "            E_list_bin.append(mean_E)\n",
    "            M_list_bin.append(mean_M)\n",
    "\n",
    "    # average the results from N_bins times of running for statistical reason\n",
    "    E_list.append([np.mean(E_list_bin), np.std(E_list_bin) / np.sqrt(N_bins)])\n",
    "    M_list.append([np.mean(M_list_bin), np.std(M_list_bin) / np.sqrt(N_bins)])\n",
    "\n",
    "    print(T, E_list[-1], M_list[-1])\n"
   ]
  },
  {
   "cell_type": "code",
   "execution_count": 171,
   "metadata": {},
   "outputs": [
    {
     "name": "stdout",
     "output_type": "stream",
     "text": [
      "2.269185314213022\n"
     ]
    },
    {
     "data": {
      "image/png": "[encoded data removed]",
      "text/plain": [
       "<Figure size 640x480 with 1 Axes>"
      ]
     },
     "metadata": {},
     "output_type": "display_data"
    }
   ],
   "source": [
    " # Plot the results\n",
    "E_list = np.array(E_list)\n",
    "plt.errorbar(T_range, E_list[:, 0], E_list[:, 1]) # plot (with error bar = std dev) the average energy variance of the system vs temperature\n",
    "\n",
    "Tc = 2. / np.log(1. + np.sqrt(2)) # temperature where the critical point happens\n",
    "print(Tc)\n",
    "\n",
    "plt.axvline(Tc, color='r', linestyle='--')\n",
    "plt.xlabel('$T$')\n",
    "plt.ylabel('$E$')\n",
    "plt.title('$E$ vs $T$')\n",
    "plt.show()"
   ]
  },
  {
   "cell_type": "code",
   "execution_count": 172,
   "metadata": {},
   "outputs": [
    {
     "name": "stdout",
     "output_type": "stream",
     "text": [
      "2.269185314213022\n"
     ]
    },
    {
     "data": {
      "image/png": "[encoded data removed]",
      "text/plain": [
       "<Figure size 640x480 with 1 Axes>"
      ]
     },
     "metadata": {},
     "output_type": "display_data"
    }
   ],
   "source": [
    " # Plot the results\n",
    "M_list = np.array(M_list)\n",
    "plt.errorbar(T_range, M_list[:, 0], M_list[:, 1]) # plot (with error bar = std dev) the average magnetization variance of the system vs temperature\n",
    "\n",
    "Tc = 2. / np.log(1. + np.sqrt(2)) # temperature where the critical point happens\n",
    "print(Tc)\n",
    "\n",
    "plt.axvline(Tc, color='r', linestyle='--')\n",
    "plt.xlabel('$T$')\n",
    "plt.ylabel('$M$')\n",
    "plt.title('$M$ vs $T$')\n",
    "plt.show()"
   ]
  },
  {
   "attachments": {},
   "cell_type": "markdown",
   "metadata": {},
   "source": [
    "g) Optionally: If in previous functions, you construct the function with for loop and in else clauses, now is a good time to optimize the code with numba.jit."
   ]
  },
  {
   "attachments": {},
   "cell_type": "markdown",
   "metadata": {},
   "source": [
    "h) Measure and plot the auto-correlation of the energy\n",
    "$$\n",
    "C_E(\\delta)=\\frac{\\left\\langle E_{t+\\delta} E_t\\right\\rangle_t-\\left\\langle E_t\\right\\rangle_t^2}{\\left\\langle\\left(E_t\\right)^2\\right\\rangle_t-\\left\\langle E_t\\right\\rangle_t^2}\n",
    "$$\n",
    "versus $\\delta$ (and similarly for the magnetization) for $T$ right at, above, and below the critical temperature $T_c$."
   ]
  },
  {
   "cell_type": "code",
   "execution_count": null,
   "metadata": {},
   "outputs": [],
   "source": [
    "# Set parameters here\n",
    "Lx = 3\n",
    "Ly = 3\n",
    "N_sweeps = 5000  # Number of steps for the measurements = number of steps to be done after N_eq is reached\n",
    "N_eq = 1000  # Number of equilibration steps before the measurements start = wait until this much iteration first before doing the 1st measurement\n",
    "N_flips = 10  # Number of steps between measurements = after N_eq is reached, do measurement every N_flips steps\n",
    "N_bins = 10  # Number of bins use for the error analysis = do this much time and average the result to get a better estimation for the value (reducing statistical error)\n",
    "T = 2.5\n",
    "\n",
    "spin_config = np.random.randint(2, size=Lx*Ly)*2-1\n",
    "bond_indices = create_bond_indices(Lx,Ly)\n",
    "\n",
    "auto_correlation = []\n",
    "\n",
    "\n",
    "spin_config, Es, Ms = swendsen_wang_loop(spin_config, bond_indices, T, Lx, Ly, N_sweeps, N_eq, N_flips)"
   ]
  },
  {
   "attachments": {},
   "cell_type": "markdown",
   "metadata": {},
   "source": [
    "i) Recreate the the auto-correlation plots for the update with the Metropolis algorithm. Notice that to compare the global update algorithm, e.g. Swendsen Wang algorithm, with the local update algorithm, e.g. Metropolis algorithm, the result of Metropolis algorithm should be measured with $N=L_x \\cdot L_y$ updates."
   ]
  },
  {
   "cell_type": "code",
   "execution_count": null,
   "metadata": {},
   "outputs": [],
   "source": []
  }
 ],
 "metadata": {
  "kernelspec": {
   "display_name": "qst_master",
   "language": "python",
   "name": "python3"
  },
  "language_info": {
   "codemirror_mode": {
    "name": "ipython",
    "version": 3
   },
   "file_extension": ".py",
   "mimetype": "text/x-python",
   "name": "python",
   "nbconvert_exporter": "python",
   "pygments_lexer": "ipython3",
   "version": "3.9.16"
  },
  "orig_nbformat": 4
 },
 "nbformat": 4,
 "nbformat_minor": 2
}
