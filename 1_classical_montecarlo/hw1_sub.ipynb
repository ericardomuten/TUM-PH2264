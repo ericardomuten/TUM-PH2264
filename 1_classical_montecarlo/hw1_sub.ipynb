{
 "cells": [
  {
   "attachments": {},
   "cell_type": "markdown",
   "metadata": {},
   "source": [
    "# Tutorial 1"
   ]
  },
  {
   "cell_type": "code",
   "execution_count": 1,
   "metadata": {},
   "outputs": [],
   "source": [
    "import numpy as np\n",
    "import matplotlib.pyplot as plt"
   ]
  },
  {
   "attachments": {},
   "cell_type": "markdown",
   "metadata": {},
   "source": [
    "## Exercise 1.1"
   ]
  },
  {
   "attachments": {},
   "cell_type": "markdown",
   "metadata": {},
   "source": [
    "a) Estimate π by “shooting” (i.e., drawing random numbers) N times uniformly on a\n",
    "square and counting the number of points hitting a disc target: the ratio of hits to\n",
    "N should correspond to the ratio of the areas of the target to the area you shoot\n",
    "on."
   ]
  },
  {
   "cell_type": "code",
   "execution_count": 108,
   "metadata": {},
   "outputs": [],
   "source": [
    "def hit_circle(x, y, r):\n",
    "\n",
    "    return x**2 + y**2 <= r\n",
    "\n",
    "def estimate_pi(N, r):\n",
    "    x = np.random.rand(N)*2-1\n",
    "    y = np.random.rand(N)*2-1\n",
    "\n",
    "    num_of_hits = np.sum(hit_circle(x, y, r))\n",
    "    circle_area = 4*num_of_hits/N\n",
    "    pi = circle_area/(r**2)\n",
    "\n",
    "    return pi"
   ]
  },
  {
   "cell_type": "code",
   "execution_count": 109,
   "metadata": {},
   "outputs": [
    {
     "name": "stdout",
     "output_type": "stream",
     "text": [
      " For N = 1000000, the estimate of π is 3.141252.\n"
     ]
    }
   ],
   "source": [
    "N = 1000000\n",
    "radius = 1\n",
    "print(f\" For N = {N}, the estimate of π is {estimate_pi(N, radius)}.\")"
   ]
  },
  {
   "attachments": {},
   "cell_type": "markdown",
   "metadata": {},
   "source": [
    "b) Estimate the variance of the error for given N by repeating this a few times."
   ]
  },
  {
   "cell_type": "code",
   "execution_count": 110,
   "metadata": {},
   "outputs": [
    {
     "name": "stdout",
     "output_type": "stream",
     "text": [
      "For N = 1000000, the variance of the error is 2.7564124223999693e-06.\n"
     ]
    }
   ],
   "source": [
    "N = 1000000\n",
    "radius = 1\n",
    "iter = 100\n",
    "\n",
    "pi = []\n",
    "for i in range(iter):\n",
    "    pi += [estimate_pi(N, radius)]\n",
    "\n",
    "error = np.array(pi) - np.pi\n",
    "variance = np.var(error)\n",
    "\n",
    "print(f\"For N = {N}, the variance of the error is {variance}.\")"
   ]
  },
  {
   "attachments": {},
   "cell_type": "markdown",
   "metadata": {},
   "source": [
    "c) Plot the variance of the error versus N on a log-log scale. What is the scaling of\n",
    "the error?"
   ]
  },
  {
   "cell_type": "code",
   "execution_count": 111,
   "metadata": {},
   "outputs": [],
   "source": [
    "N = [10**1, 2*(10**1), 10**2, 2*(10**2), 10**3, 10**4, 10**5, 10**6, 10**7]\n",
    "radius = 1\n",
    "iter = 100\n",
    "\n",
    "variance = []\n",
    "for n in N:\n",
    "    pi = []\n",
    "    for i in range(iter):\n",
    "        pi += [estimate_pi(n, radius)]\n",
    "    error = np.array(pi) - np.pi\n",
    "    variance += [np.var(error)]\n"
   ]
  },
  {
   "cell_type": "code",
   "execution_count": 115,
   "metadata": {},
   "outputs": [
    {
     "data": {
      "text/plain": [
       "Text(0.5, 1.0, 'Scaling of Error Variance vs $N$ with Radius $r = 1$')"
      ]
     },
     "execution_count": 115,
     "metadata": {},
     "output_type": "execute_result"
    },
    {
     "data": {
      "image/png": "[encoded data removed]",
      "text/plain": [
       "<Figure size 640x480 with 1 Axes>"
      ]
     },
     "metadata": {},
     "output_type": "display_data"
    }
   ],
   "source": [
    "plt.scatter(N,variance)\n",
    "plt.yscale(\"log\")\n",
    "plt.xlabel(\"$N$\")\n",
    "plt.ylabel(\"Variance of the Error (in log scale)\")\n",
    "plt.title(\"Scaling of Error Variance vs $N$ with Radius $r = 1$\")\n",
    "plt.show()"
   ]
  },
  {
   "attachments": {},
   "cell_type": "markdown",
   "metadata": {},
   "source": [
    "$$\n",
    "\n",
    "\\begin{align}\n",
    "y' &= \\log(y) \\\\\n",
    "y' &\\sim \\frac{1}{x} \\\\\n",
    "\\log(y) &\\sim \\frac{1}{x} \\\\\n",
    "\\log(\\text{error variance}) &\\sim \\frac{1}{N}\n",
    "\\end{align}\n",
    "\n",
    "$$"
   ]
  },
  {
   "attachments": {},
   "cell_type": "markdown",
   "metadata": {},
   "source": [
    "Now, we turn to a different problem. Consider π given, we use Monte Carlo to estimate\n",
    "the volume of d-dimension sphere.\n",
    "\n",
    "d) Generalize your code to estimate the volume of a d-dimensional sphere. Does it run\n",
    "much slower for large d? How does the error of the estimates scale for d and N?"
   ]
  },
  {
   "cell_type": "code",
   "execution_count": 2,
   "metadata": {},
   "outputs": [],
   "source": [
    "def hit_d_ball(coord, r):\n",
    "    \n",
    "    return np.sum((coord)**2, axis=1) <= r\n",
    "\n",
    "def estimate_d_ball_volume(N, d, r):\n",
    "    coord = (np.random.rand(N, d)*2-1)\n",
    "\n",
    "    num_of_hits = np.sum(hit_d_ball(coord, r))\n",
    "    d_ball_volume = ((2*r)**d) * num_of_hits/N\n",
    "\n",
    "    return d_ball_volume"
   ]
  },
  {
   "cell_type": "code",
   "execution_count": 6,
   "metadata": {},
   "outputs": [
    {
     "name": "stdout",
     "output_type": "stream",
     "text": [
      "For N = 1000000 and radius r = 1, the estimate volume of 2-dimensional sphere (area of circle) is 3.142436. And the estimate volume of 3-dimensional sphere (volume of sphere) is 4.185552.\n"
     ]
    }
   ],
   "source": [
    "N = 10**6\n",
    "radius = 1\n",
    "\n",
    "print(f\"For N = {N} and radius r = {radius}, the estimate volume of 2-dimensional sphere (area of circle) is {estimate_d_ball_volume(N, 2, radius)}. And the estimate volume of 3-dimensional sphere (volume of sphere) is {estimate_d_ball_volume(N, 3, radius)}.\")"
   ]
  },
  {
   "cell_type": "code",
   "execution_count": 9,
   "metadata": {},
   "outputs": [],
   "source": [
    "import time\n",
    "\n",
    "N = 10**6\n",
    "d = [1, 2, 3, 4, 5, 6, 7, 8, 9, 10, 11, 12, 13, 14, 15]\n",
    "radius = 1\n",
    "\n",
    "runtime = []\n",
    "volume = []\n",
    "for dimension in d:\n",
    "    start = time.time()\n",
    "    volume += [estimate_d_ball_volume(N, dimension, radius)]\n",
    "    end = time.time()\n",
    "\n",
    "    runtime += [end - start]"
   ]
  },
  {
   "cell_type": "code",
   "execution_count": 10,
   "metadata": {},
   "outputs": [
    {
     "data": {
      "text/plain": [
       "[2.0,\n",
       " 3.142536,\n",
       " 4.192096,\n",
       " 4.93296,\n",
       " 5.267456,\n",
       " 5.178816,\n",
       " 4.734848,\n",
       " 4.045056,\n",
       " 3.304448,\n",
       " 2.582528,\n",
       " 1.851392,\n",
       " 1.339392,\n",
       " 0.811008,\n",
       " 0.73728,\n",
       " 0.393216]"
      ]
     },
     "execution_count": 10,
     "metadata": {},
     "output_type": "execute_result"
    }
   ],
   "source": [
    "volume"
   ]
  },
  {
   "cell_type": "code",
   "execution_count": 13,
   "metadata": {},
   "outputs": [
    {
     "data": {
      "image/png": "[encoded data removed]",
      "text/plain": [
       "<Figure size 640x480 with 1 Axes>"
      ]
     },
     "metadata": {},
     "output_type": "display_data"
    }
   ],
   "source": [
    "plt.scatter(d,runtime)\n",
    "plt.xlabel(\"Dimension $d$\")\n",
    "plt.ylabel(\"Runtime (second)\")\n",
    "plt.title(\"Scaling of Runtime (second) vs Dimension $d$ with Radius $r = 1$ and $N = 10^6$\")\n",
    "plt.show()"
   ]
  },
  {
   "attachments": {},
   "cell_type": "markdown",
   "metadata": {},
   "source": [
    "The runtime scales **linearly** with $d$."
   ]
  },
  {
   "cell_type": "code",
   "execution_count": null,
   "metadata": {},
   "outputs": [],
   "source": [
    "N = [10**1, 2*(10**1), 10**2, 2*(10**2), 10**3, 10**4, 10**5, 10**6, 10**7]\n",
    "d = [1, 2, 3, 4, 5, 6, 7, 8, 9, 10, 11, 12, 13, 14, 15]\n",
    "radius = 1\n",
    "\n",
    "\n",
    "volume = []\n",
    "for dimension in d:\n",
    "    volume += [[estimate_d_ball_volume(n, dimension, radius) for n in N]]"
   ]
  },
  {
   "cell_type": "code",
   "execution_count": null,
   "metadata": {},
   "outputs": [],
   "source": []
  }
 ],
 "metadata": {
  "kernelspec": {
   "display_name": "qst_master",
   "language": "python",
   "name": "python3"
  },
  "language_info": {
   "codemirror_mode": {
    "name": "ipython",
    "version": 3
   },
   "file_extension": ".py",
   "mimetype": "text/x-python",
   "name": "python",
   "nbconvert_exporter": "python",
   "pygments_lexer": "ipython3",
   "version": "3.9.16"
  },
  "orig_nbformat": 4
 },
 "nbformat": 4,
 "nbformat_minor": 2
}
