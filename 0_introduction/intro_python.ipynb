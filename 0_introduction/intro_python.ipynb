{
 "cells": [
  {
   "cell_type": "markdown",
   "metadata": {},
   "source": [
    "# Introduction"
   ]
  },
  {
   "cell_type": "markdown",
   "metadata": {},
   "source": [
    "This is only a short intro, if you are completely new the python documentation (and the countless online tutorials) can really help.\n",
    "\n",
    "The mandatory Hello World:"
   ]
  },
  {
   "cell_type": "code",
   "execution_count": 1,
   "metadata": {
    "tags": []
   },
   "outputs": [
    {
     "name": "stdout",
     "output_type": "stream",
     "text": [
      "Hello World\n"
     ]
    }
   ],
   "source": [
    "print(\"Hello World\")  \n",
    "# Hashtag means comment, this text is not code, Strings in python are marked by \"String\" or 'String'"
   ]
  },
  {
   "cell_type": "markdown",
   "metadata": {},
   "source": [
    "Variables in python are initialized with variable_name = value; this can also contain operations which are typically evaluated imediatelly, i.e. before the variable is initialized: **strict** evaluation (in contrast to **lazy** evaluation, see the concept of generators, such as `range`)."
   ]
  },
  {
   "cell_type": "code",
   "execution_count": 2,
   "metadata": {
    "tags": []
   },
   "outputs": [
    {
     "name": "stdout",
     "output_type": "stream",
     "text": [
      "5.0\n",
      "10\n"
     ]
    }
   ],
   "source": [
    "x = 5.0\n",
    "y = 4 + 5  # the + operation is done before y is initialized (and stored)\n",
    "print(x)\n",
    "print(y + 1)"
   ]
  },
  {
   "cell_type": "markdown",
   "metadata": {},
   "source": [
    "Each variable has a \"type\" which is accessed with the built-in `type()` function\n",
    "\n",
    "If you are new to jupyter: You can use variables etc. across different cells. Once a cell is executed with \"Run\" (or Shift+Enter) the variables are stored and can be accessed in subsequent cells as well - jupyter just connects to a python REPL, which has a global state. Here we use `x` and `y` from the previous cell"
   ]
  },
  {
   "cell_type": "code",
   "execution_count": 3,
   "metadata": {
    "tags": []
   },
   "outputs": [
    {
     "name": "stdout",
     "output_type": "stream",
     "text": [
      "<class 'float'>\n",
      "<class 'int'>\n"
     ]
    }
   ],
   "source": [
    "print(type(x))\n",
    "print(type(y))"
   ]
  },
  {
   "cell_type": "markdown",
   "metadata": {},
   "source": [
    "Python is dynamically typed, i.e. the type of a variable can be changed at runtime. See: [Duck-Typing](https://en.wikipedia.org/wiki/Duck_typing): \"If it walks like a duck and it quacks like a duck, then it must be a duck\""
   ]
  },
  {
   "cell_type": "code",
   "execution_count": 4,
   "metadata": {
    "tags": []
   },
   "outputs": [
    {
     "name": "stdout",
     "output_type": "stream",
     "text": [
      "<class 'float'>\n",
      "<class 'int'>\n"
     ]
    }
   ],
   "source": [
    "x = 2.1\n",
    "print(type(x))\n",
    "x = 5\n",
    "print(type(x))"
   ]
  },
  {
   "cell_type": "markdown",
   "metadata": {},
   "source": [
    "## Common data structures: Lists, Tuples and Dictionaries\n",
    "\n",
    "### Lists"
   ]
  },
  {
   "cell_type": "code",
   "execution_count": 5,
   "metadata": {
    "tags": []
   },
   "outputs": [
    {
     "name": "stdout",
     "output_type": "stream",
     "text": [
      "The list:  [2, 5.0, 'Hello World']\n",
      "The first element:  2\n",
      "The last element type:  <class 'str'>\n"
     ]
    }
   ],
   "source": [
    "a_list = [2, 5.0, \"Hello World\"]  # this is a list, entries are separated by \",\" and each entry can have a different type\n",
    "\n",
    "print(\"The list: \", a_list)\n",
    "print(\"The first element: \", a_list[0])  # get the first element, counting always starts at 0 in python\n",
    "print(\"The last element type: \", type(a_list[2]))"
   ]
  },
  {
   "cell_type": "markdown",
   "metadata": {},
   "source": [
    "### Tuples"
   ]
  },
  {
   "cell_type": "code",
   "execution_count": 6,
   "metadata": {
    "tags": []
   },
   "outputs": [
    {
     "name": "stdout",
     "output_type": "stream",
     "text": [
      "2\n"
     ]
    }
   ],
   "source": [
    "a_tuple = (2, 5.0, \"Hello World\")\n",
    "\n",
    "entry1, entry2, entry3 = a_tuple  # very convenient sometimes, also works with lists: \"unpacking\"\n",
    "print(entry1)"
   ]
  },
  {
   "cell_type": "markdown",
   "metadata": {},
   "source": [
    "### Dictionaries"
   ]
  },
  {
   "cell_type": "code",
   "execution_count": 7,
   "metadata": {
    "tags": []
   },
   "outputs": [
    {
     "name": "stdout",
     "output_type": "stream",
     "text": [
      "Value of the key 2:  5\n"
     ]
    }
   ],
   "source": [
    "a_dict = {\"key\":\"value\", 2:5, \"list_as_value\":a_list}  # dictionaries consist of key:value pairs (`value` can be pretty much anything, while `key` must be hashable)\n",
    "\n",
    "value = a_dict[2]  # putting a key in parenthesis returns the value of this key\n",
    "print(\"Value of the key 2: \", value)"
   ]
  },
  {
   "cell_type": "markdown",
   "metadata": {},
   "source": [
    "### Be aware of references\n",
    "\n",
    "Python uses **references**, which are values used to indirectly access stored data\n",
    "\n",
    "Due to this, different variables might point to the **same** object (i.e. stored data). This can be checked with the `is` statement. On the other hand, `==` checks if the data is the same"
   ]
  },
  {
   "cell_type": "markdown",
   "metadata": {
    "tags": []
   },
   "source": [
    "For example for lists:"
   ]
  },
  {
   "cell_type": "code",
   "execution_count": 55,
   "metadata": {
    "tags": []
   },
   "outputs": [
    {
     "name": "stdout",
     "output_type": "stream",
     "text": [
      "a = [2, 12]  b = [2, 12]\n",
      "True\n"
     ]
    }
   ],
   "source": [
    "a = [10, 12]\n",
    "b = a  # creates an additional reference\n",
    "b[0] = 2  # also modifies a: When using lists, modifying b does NOT create a new reference but modifies the data in place (lists are mutable)\n",
    "print(\"a =\", a, \" b =\", b)\n",
    "print(a is b) # True, since the references are still the same"
   ]
  },
  {
   "cell_type": "code",
   "execution_count": 57,
   "metadata": {},
   "outputs": [
    {
     "name": "stdout",
     "output_type": "stream",
     "text": [
      "True\n",
      "2\n",
      "False\n"
     ]
    }
   ],
   "source": [
    "x = 2  # the variable x references the storage where 10 is stored\n",
    "y = x  # y is now an additional reference to the number 10\n",
    "print(x is y)  # True, since both references point to the same value\n",
    "\n",
    "x = 10\n",
    "print(y)  # still 2, modifying x creates a new refence. Different with respect to lists!\n",
    "print(x is y)  # False, the reason is that x was modified and points to a different value (i.e. storage) now"
   ]
  },
  {
   "cell_type": "markdown",
   "metadata": {},
   "source": [
    "As a rule of thumb: For basic data types such as int, float, string,... modifying the value of a variable creates a new reference if needed, for lists etc. data is modified in place, meaning that **all** variables pointing to the same object are changed\n",
    "\n",
    "To avoid this, we can make an explicit copy"
   ]
  },
  {
   "cell_type": "code",
   "execution_count": 6,
   "metadata": {
    "tags": []
   },
   "outputs": [
    {
     "name": "stdout",
     "output_type": "stream",
     "text": [
      "a = [2, 12] b = [5, 12]\n",
      "False\n"
     ]
    }
   ],
   "source": [
    "import copy\n",
    "\n",
    "b = copy.deepcopy(a)  # create a new reference with separate storage\n",
    "b[0] = 5  # does not modify x now\n",
    "print(\"a =\", a, \"b =\", b)\n",
    "print(a is b)"
   ]
  },
  {
   "cell_type": "markdown",
   "metadata": {},
   "source": [
    "#### Indexing\n",
    "Sidenote: `List[start:end]` returns the elements of the list starting from the index start (included) up to the index end (not included). Leaving start or end empty returns the full range. There are a lot more possibilities for *indexing* and *slicing* iterable data structures. Numpy for example supports [advanced indexing](https://numpy.org/doc/stable/user/basics.indexing.html#advanced-indexing)."
   ]
  },
  {
   "cell_type": "code",
   "execution_count": 11,
   "metadata": {
    "tags": []
   },
   "outputs": [
    {
     "name": "stdout",
     "output_type": "stream",
     "text": [
      "First 2 elements: [0, 1]\n",
      "All elements starting from index 1: [1, 2, 3, 4, 5]\n",
      "last three elements: [3, 4, 5]\n",
      "Elements 2 to 4 (not included): [2, 3]\n"
     ]
    }
   ],
   "source": [
    "a = [0, 1, 2, 3, 4, 5]\n",
    "print(\"First 2 elements:\", a[:2])\n",
    "print(\"All elements starting from index 1:\", a[1:])\n",
    "print(\"last three elements:\", a[-3:])\n",
    "print(\"Elements 2 to 4 (not included):\", a[2:4])"
   ]
  },
  {
   "cell_type": "markdown",
   "metadata": {},
   "source": [
    "Alternative ways to split references"
   ]
  },
  {
   "cell_type": "code",
   "execution_count": 12,
   "metadata": {},
   "outputs": [
    {
     "name": "stdout",
     "output_type": "stream",
     "text": [
      "False\n",
      "False\n"
     ]
    }
   ],
   "source": [
    "a = [2, 12]\n",
    "b = list(a)  # creates a new list with separate reference\n",
    "c = a[:]  # also creates a new reference, but only for the most outer layer, see below\n",
    "print(a is b)\n",
    "print(a is c)"
   ]
  },
  {
   "cell_type": "markdown",
   "metadata": {},
   "source": [
    "Nesting data structures is possible, for example: lists of lists."
   ]
  },
  {
   "cell_type": "code",
   "execution_count": 13,
   "metadata": {},
   "outputs": [
    {
     "name": "stdout",
     "output_type": "stream",
     "text": [
      "[1, 2]\n",
      "2\n"
     ]
    }
   ],
   "source": [
    "a = [[1, 2], [3, 4]]\n",
    "print(a[0])\n",
    "print(a[0][1])  # a[0] is a list, [1] indexes the second element in this list, can also be done with more indices"
   ]
  },
  {
   "cell_type": "markdown",
   "metadata": {},
   "source": [
    "Be careful with lists of lists"
   ]
  },
  {
   "cell_type": "code",
   "execution_count": 13,
   "metadata": {},
   "outputs": [
    {
     "name": "stdout",
     "output_type": "stream",
     "text": [
      "a is b: False\n",
      "a[0] is b[0]: True\n",
      "a[0] = [1, 2, 4]\n",
      "With deepcopy: a[0] is b[0]: False\n"
     ]
    }
   ],
   "source": [
    "a = [[1, 2], [3, 4]]\n",
    "b = a[:]  # ***, b has a separate reference now\n",
    "b[0].append(4)  # add element to the first list in b\n",
    "print(\"a is b:\", a is b)\n",
    "print(\"a[0] is b[0]:\", a[0] is b[0])\n",
    "print(\"a[0] =\", a[0])  # Still, a[0] has also been modified, since *** only creates a new reference for the outmost layer\n",
    "\n",
    "\n",
    "# deepcopy avoids this problem\n",
    "a = [[1, 2], [3, 4]]\n",
    "b = copy.deepcopy(a)  # separate references for all sublists\n",
    "b[0].append(4)\n",
    "print(\"With deepcopy: a[0] is b[0]:\", a[0] is b[0])"
   ]
  },
  {
   "cell_type": "markdown",
   "metadata": {},
   "source": [
    "### Mutability\n",
    "\n",
    "- Lists and Dictionaries are mutable, i.e. can be modified at runtime\n",
    "- Tuples on the other hand are immutable, i.e. cannot be modified at runtime\n",
    "\n",
    "What's the difference? Modifying elements is convenient but costs ressources, i.e. slows the code down. Thus, as long as the data is not modified, tuples are faster! (You will see in this course that numpy/scipy arrays are the way to go for numerical tasks most of the time)"
   ]
  },
  {
   "cell_type": "code",
   "execution_count": 14,
   "metadata": {},
   "outputs": [
    {
     "name": "stdout",
     "output_type": "stream",
     "text": [
      "a = [3, 1, 7, 4]\n",
      "a+a = [3, 1, 7, 4, 3, 1, 7, 4]\n",
      "3*a = [3, 1, 7, 4, 3, 1, 7, 4, 3, 1, 7, 4]\n",
      "b = {2: 1, 3: 2, 5: 4, 7: 3}\n"
     ]
    }
   ],
   "source": [
    "a = [3, 1, 5]\n",
    "a.append(4)  # add element\n",
    "a[2] = 7  # change element\n",
    "print(\"a =\", a)\n",
    "b = a + a  # concatenate lists\n",
    "c = 3 * a  # concatenate a list 3 times\n",
    "print(\"a+a =\", b)\n",
    "print(\"3*a =\", c)\n",
    "\n",
    "b = {2:1, 3:2}\n",
    "b[5] = 7  # add key and value or\n",
    "b[5] = 4  # change value of the key 5 if the key already exists\n",
    "b[7] = b.get(7, 0) + 3  # add 3 to the value of the key 7, the .get(key,default) ensures that no error is thrown\n",
    "                        # if the key 7 does not yet exist, in that case it returns the default value\n",
    "print(\"b =\", b)"
   ]
  },
  {
   "cell_type": "markdown",
   "metadata": {},
   "source": [
    "However, tuples ar immutable"
   ]
  },
  {
   "cell_type": "code",
   "execution_count": 15,
   "metadata": {},
   "outputs": [
    {
     "ename": "TypeError",
     "evalue": "'tuple' object does not support item assignment",
     "output_type": "error",
     "traceback": [
      "\u001b[0;31m---------------------------------------------------------------------------\u001b[0m",
      "\u001b[0;31mTypeError\u001b[0m                                 Traceback (most recent call last)",
      "\u001b[0;32m/tmp/ipykernel_1940522/1331010372.py\u001b[0m in \u001b[0;36m<module>\u001b[0;34m\u001b[0m\n\u001b[1;32m      1\u001b[0m \u001b[0ma\u001b[0m \u001b[0;34m=\u001b[0m \u001b[0;34m(\u001b[0m\u001b[0;36m2\u001b[0m\u001b[0;34m,\u001b[0m \u001b[0;36m5\u001b[0m\u001b[0;34m)\u001b[0m  \u001b[0;31m# with tuple\u001b[0m\u001b[0;34m\u001b[0m\u001b[0;34m\u001b[0m\u001b[0m\n\u001b[0;32m----> 2\u001b[0;31m \u001b[0ma\u001b[0m\u001b[0;34m[\u001b[0m\u001b[0;36m0\u001b[0m\u001b[0;34m]\u001b[0m \u001b[0;34m=\u001b[0m \u001b[0;36m3\u001b[0m  \u001b[0;31m# throws an error, cannot change tuples at runtime\u001b[0m\u001b[0;34m\u001b[0m\u001b[0;34m\u001b[0m\u001b[0m\n\u001b[0m",
      "\u001b[0;31mTypeError\u001b[0m: 'tuple' object does not support item assignment"
     ]
    }
   ],
   "source": [
    "a = (2, 5)  # with tuple\n",
    "a[0] = 3  # throws an error, cannot change tuples at runtime"
   ]
  },
  {
   "cell_type": "markdown",
   "metadata": {
    "tags": []
   },
   "source": [
    "## Flow control statements\n",
    "\n",
    "Python declares certain key words, that are typically used as flow control statements, such as `if`, `elif`, `else`, `for`, `while`, `continue`, `def`, `return`, `yield`, `class` and many more.\n",
    "\n",
    "### Conditional statements"
   ]
  },
  {
   "cell_type": "code",
   "execution_count": 16,
   "metadata": {},
   "outputs": [
    {
     "name": "stdout",
     "output_type": "stream",
     "text": [
      "False\n",
      "x < y\n",
      "both statements are true\n"
     ]
    }
   ],
   "source": [
    "x = 5 \n",
    "y = 3\n",
    "print(y == x)  # this is a statement (other than y = x which assigns x to y) and returns a Bool which is either True or False\n",
    "\n",
    "# if else checks a statement (or multiple ones) and executes specific clauses depending on the outcome\n",
    "if y == x:\n",
    "    print(\"x = y\")\n",
    "elif y < x:  # if the first statement is False, check the second one\n",
    "    print(\"x < y\")\n",
    "else:  # if all previous statements are False\n",
    "    print(\"x > y\")\n",
    "\n",
    "statement_2 = True    \n",
    "if y < x and statement_2:\n",
    "    print(\"both statements are true\")\n",
    "# can also remove an else statement if wanted"
   ]
  },
  {
   "cell_type": "markdown",
   "metadata": {},
   "source": [
    "### Loops\n",
    "\n",
    "Iterators, Iterables and the `for` and `while` loop:\n",
    "\n",
    "- Iterables are objects (think of data structures) whose elements can be accessed in an ordered way\n",
    "- Iterators are objects (think of functions) that perform such an iteration"
   ]
  },
  {
   "cell_type": "code",
   "execution_count": 18,
   "metadata": {},
   "outputs": [
    {
     "name": "stdout",
     "output_type": "stream",
     "text": [
      "With iterator\n",
      "0\n",
      "1\n",
      "2\n",
      "3\n",
      "4\n",
      "With list:\n",
      "1\n",
      "4\n",
      "7\n",
      "9\n",
      "A while loop:\n",
      "10\n",
      "11\n",
      "12\n"
     ]
    }
   ],
   "source": [
    "iterator = range(5)  # iterator that iterates over the integers 0 to 99, general syntax is range(start, stop, stepsize)\n",
    "a = [1, 4, 7, 9]  # this is an iterable\n",
    "\n",
    "# we can use iterators/iterables in for loops:\n",
    "print(\"With iterator\")\n",
    "for n in iterator:  # do something for each n in iterator\n",
    "    print(n)\n",
    "print(\"With list:\")\n",
    "for element in a:\n",
    "    print(element)\n",
    "    \n",
    "# while loops are executed as long as some statement is true\n",
    "x = 10\n",
    "print(\"A while loop:\")\n",
    "while x < 13:\n",
    "    print(x)\n",
    "    x += 1  # be careful, while loops can run forever if the statement does not change"
   ]
  },
  {
   "cell_type": "markdown",
   "metadata": {},
   "source": [
    "**Important**: In python, indentation is used to delimit blocks of code."
   ]
  },
  {
   "cell_type": "code",
   "execution_count": 19,
   "metadata": {},
   "outputs": [
    {
     "name": "stdout",
     "output_type": "stream",
     "text": [
      "3\n",
      "1\n",
      "2\n",
      "No indent:\n",
      "2\n"
     ]
    }
   ],
   "source": [
    "a = [3, 1, 5, 7, 2]\n",
    "current_element = None  # placeholder\n",
    "for x in a:\n",
    "    current_element = x\n",
    "    if current_element <= 3:  # is done for each element\n",
    "        print(x)\n",
    "print(\"No indent:\")\n",
    "for x in a:\n",
    "    current_element = x\n",
    "if current_element <= 3: # first the loop is done, then the if clause\n",
    "    print(x)"
   ]
  },
  {
   "cell_type": "markdown",
   "metadata": {},
   "source": [
    "### Strings\n",
    "Strings can be formatted in many different ways, see https://docs.python.org/3/library/string.html for some common functions, e.g."
   ]
  },
  {
   "cell_type": "code",
   "execution_count": 20,
   "metadata": {},
   "outputs": [
    {
     "name": "stdout",
     "output_type": "stream",
     "text": [
      "hello world 1.230000e+01\n"
     ]
    }
   ],
   "source": [
    "a = \"hello world {x:e}\"\n",
    "print(a.format(x=12.3))"
   ]
  },
  {
   "cell_type": "markdown",
   "metadata": {},
   "source": [
    "## Functions\n",
    "\n",
    "Separate pieces of code that may be called repeatedly and perform some operation can be encapsulated in a function with the `def` statement. For example\n",
    "\n",
    "### Defining functions"
   ]
  },
  {
   "cell_type": "code",
   "execution_count": 18,
   "metadata": {
    "tags": []
   },
   "outputs": [],
   "source": [
    "# the syntax\n",
    "def function_name(arg_1, arg_2, opt_arg=4):  # arg_1/2 are mandatory arguments opt_arg is optional with default value 4                                                   # *args are optional arguments (there is also **kwargs in principle)\n",
    "    pass  # does nothing\n",
    "\n",
    "# more practical examples:\n",
    "def append_1_to_list(my_list):\n",
    "    my_list.append(1)\n",
    "    return my_list  # what the function returns\n",
    "    \n",
    "def sum_numbers(x, y, offset=0):\n",
    "    z = x+y+offset  # do some calculation\n",
    "    return z  # return the result"
   ]
  },
  {
   "cell_type": "markdown",
   "metadata": {},
   "source": [
    "### Calling functions"
   ]
  },
  {
   "cell_type": "code",
   "execution_count": 19,
   "metadata": {
    "scrolled": true,
    "tags": []
   },
   "outputs": [
    {
     "name": "stdout",
     "output_type": "stream",
     "text": [
      "[3, 4, 1]\n",
      "[3, 4, 1, 1]\n"
     ]
    }
   ],
   "source": [
    "x = [3, 4]\n",
    "print(append_1_to_list(x)) \n",
    "print(append_1_to_list(x)) # calling the function also modifies the list in place, thus calling the function twice adds 1 two times"
   ]
  },
  {
   "cell_type": "code",
   "execution_count": 20,
   "metadata": {
    "tags": []
   },
   "outputs": [
    {
     "name": "stdout",
     "output_type": "stream",
     "text": [
      "13\n",
      "15\n"
     ]
    }
   ],
   "source": [
    "x = 5\n",
    "y = 8\n",
    "z = sum_numbers(x, y)  # return values can be assigned to new or exisiting variables\n",
    "print(z)\n",
    "print(sum_numbers(x, y, offset=2))"
   ]
  },
  {
   "cell_type": "markdown",
   "metadata": {},
   "source": [
    "### Scope of variables\n",
    "Local vs. Global variables"
   ]
  },
  {
   "cell_type": "code",
   "execution_count": 21,
   "metadata": {},
   "outputs": [
    {
     "name": "stdout",
     "output_type": "stream",
     "text": [
      "9\n"
     ]
    },
    {
     "ename": "NameError",
     "evalue": "name 'local_var' is not defined",
     "output_type": "error",
     "traceback": [
      "\u001b[0;31m---------------------------------------------------------------------------\u001b[0m",
      "\u001b[0;31mNameError\u001b[0m                                 Traceback (most recent call last)",
      "\u001b[0;32m/tmp/ipykernel_1940522/1555738233.py\u001b[0m in \u001b[0;36m<module>\u001b[0;34m\u001b[0m\n\u001b[1;32m      3\u001b[0m     \u001b[0;32mreturn\u001b[0m \u001b[0ma\u001b[0m\u001b[0;34m+\u001b[0m\u001b[0mlocal_var\u001b[0m\u001b[0;34m\u001b[0m\u001b[0;34m\u001b[0m\u001b[0m\n\u001b[1;32m      4\u001b[0m \u001b[0mprint\u001b[0m\u001b[0;34m(\u001b[0m\u001b[0mfunc\u001b[0m\u001b[0;34m(\u001b[0m\u001b[0;36m5\u001b[0m\u001b[0;34m)\u001b[0m\u001b[0;34m)\u001b[0m  \u001b[0;31m# this prints as expected\u001b[0m\u001b[0;34m\u001b[0m\u001b[0;34m\u001b[0m\u001b[0m\n\u001b[0;32m----> 5\u001b[0;31m \u001b[0mprint\u001b[0m\u001b[0;34m(\u001b[0m\u001b[0mlocal_var\u001b[0m\u001b[0;34m)\u001b[0m  \u001b[0;31m# gives error, b is only assigned locally INSIDE the function\u001b[0m\u001b[0;34m\u001b[0m\u001b[0;34m\u001b[0m\u001b[0m\n\u001b[0m",
      "\u001b[0;31mNameError\u001b[0m: name 'local_var' is not defined"
     ]
    }
   ],
   "source": [
    "def func(a):\n",
    "    local_var = 4  # this is a local variable and exists only INSIDE the function\n",
    "    return a+local_var\n",
    "print(func(5))  # this prints as expected\n",
    "print(local_var)  # gives error, b is only assigned locally INSIDE the function"
   ]
  },
  {
   "cell_type": "code",
   "execution_count": 22,
   "metadata": {},
   "outputs": [
    {
     "name": "stdout",
     "output_type": "stream",
     "text": [
      "9\n",
      "4\n"
     ]
    }
   ],
   "source": [
    "more_global_var = 5  # can be used inside a function\n",
    "\n",
    "def func(a):\n",
    "    a = more_global_var+a  # the left a is a NEW local variable, the original a is NOT modified by this (lists are however)\n",
    "    return a\n",
    "\n",
    "a = 4\n",
    "print(func(a)) \n",
    "print(a)\n",
    "\n",
    "global a  # this is a proper global variable\n",
    "a = 5 "
   ]
  },
  {
   "cell_type": "markdown",
   "metadata": {},
   "source": [
    "A useful concept from functional programming: **Recursion**, i.e. functions that call themselves"
   ]
  },
  {
   "cell_type": "code",
   "execution_count": 23,
   "metadata": {},
   "outputs": [
    {
     "name": "stdout",
     "output_type": "stream",
     "text": [
      "120\n"
     ]
    }
   ],
   "source": [
    "def factorial(n):\n",
    "    assert type(n) is int and n >= 1, \"Input must be integer\"  # checks if some condition is fulfilled, the String is the error message if not\n",
    "    if n == 1:\n",
    "        return 1\n",
    "    else:\n",
    "        return n * factorial(n-1)  # here the function at a lower value is called\n",
    "print(factorial(5))"
   ]
  },
  {
   "cell_type": "markdown",
   "metadata": {},
   "source": [
    "**Note**: it is very easy to write memory-inefficient recursive functions! (but there are [optimizations](https://stackoverflow.com/questions/310974/what-is-tail-call-optimization) to overcome this problem)"
   ]
  },
  {
   "cell_type": "markdown",
   "metadata": {},
   "source": [
    "### More about function and how you can get help"
   ]
  },
  {
   "cell_type": "code",
   "execution_count": 24,
   "metadata": {
    "tags": []
   },
   "outputs": [],
   "source": [
    "def my_function(*args):\n",
    "    \"\"\"This is the doc string to show what the function does\"\"\"\n",
    "    print(args) "
   ]
  },
  {
   "cell_type": "code",
   "execution_count": 28,
   "metadata": {},
   "outputs": [
    {
     "name": "stdout",
     "output_type": "stream",
     "text": [
      "()\n"
     ]
    }
   ],
   "source": [
    "my_function()  # the doc-string appears, if you put the curser on the corresponding line and press shift-tab "
   ]
  },
  {
   "cell_type": "markdown",
   "metadata": {},
   "source": [
    "## IO operations\n",
    "\n",
    "Writing to files"
   ]
  },
  {
   "cell_type": "code",
   "execution_count": 27,
   "metadata": {
    "tags": []
   },
   "outputs": [],
   "source": [
    "file = open(\"filename.txt\", \"w\")  #\"w\" is the mode of operation \"w\":(over-)write, \"a\":append, \"r\":read\n",
    "file.write(\"Test\\n\")  #\\n is the newline character\n",
    "file.close()\n",
    "\n",
    "# or short:\n",
    "with open(\"filename.txt\", \"w\") as f:\n",
    "    f.write(\"Test2\")"
   ]
  },
  {
   "cell_type": "markdown",
   "metadata": {},
   "source": [
    "Reading from files"
   ]
  },
  {
   "cell_type": "code",
   "execution_count": 28,
   "metadata": {
    "tags": []
   },
   "outputs": [
    {
     "name": "stdout",
     "output_type": "stream",
     "text": [
      "Test2\n"
     ]
    }
   ],
   "source": [
    "file = open(\"filename.txt\", \"r\")\n",
    "data = file.read()  # or .readlines() to get iterator over lines\n",
    "file.close()\n",
    "\n",
    "# or short:\n",
    "with open(\"filename.txt\", 'r') as f:\n",
    "    data = f.read()\n",
    "print(data)"
   ]
  },
  {
   "cell_type": "markdown",
   "metadata": {},
   "source": [
    "**Note**: the `with` statement indicates that the object returned by `open` implements a contex manager with some [magic methods](https://rszalski.github.io/magicmethods/), which does some setup and cleanup actions for us, here the automatic closing."
   ]
  },
  {
   "cell_type": "markdown",
   "metadata": {},
   "source": [
    "# A simple example: Numerical value of $\\pi$\n",
    "\n",
    "Estimate $\\pi$ with the __Wallis product__ \n",
    "\\begin{equation}\n",
    "\\frac{\\pi}{2} = \\prod_{i=1}^{N} \\frac{4i^2}{4i^2-1} + \\mathcal{O}\\left(\\frac{1}{N}\\right)\n",
    "\\end{equation}"
   ]
  },
  {
   "cell_type": "markdown",
   "metadata": {},
   "source": [
    "A simple implementation"
   ]
  },
  {
   "cell_type": "code",
   "execution_count": 29,
   "metadata": {
    "tags": []
   },
   "outputs": [
    {
     "name": "stdout",
     "output_type": "stream",
     "text": [
      "3.1415141108281714\n"
     ]
    }
   ],
   "source": [
    "N = 10000\n",
    "estimate = 1.\n",
    "for i in range(1, N):\n",
    "    x = 4 * i**2\n",
    "    estimate *= x / (x-1)\n",
    "print(2.*estimate)"
   ]
  },
  {
   "cell_type": "markdown",
   "metadata": {},
   "source": [
    "Countercheck the value with numpy"
   ]
  },
  {
   "cell_type": "code",
   "execution_count": 30,
   "metadata": {
    "tags": []
   },
   "outputs": [
    {
     "name": "stdout",
     "output_type": "stream",
     "text": [
      "3.141592653589793\n"
     ]
    }
   ],
   "source": [
    "import numpy as np # import the numpy module, i.e. additional code with name np\n",
    "\n",
    "print(np.pi) # here we use the value pi stored in numpy"
   ]
  },
  {
   "cell_type": "markdown",
   "metadata": {},
   "source": [
    "Function to implement variable N"
   ]
  },
  {
   "cell_type": "code",
   "execution_count": 31,
   "metadata": {
    "tags": []
   },
   "outputs": [],
   "source": [
    "def estimate_pi(N=1000):\n",
    "    estimate = 1.\n",
    "    for i in range(1, N):\n",
    "        x = 4 * i**2\n",
    "        estimate *= np.abs(x / (x-1))\n",
    "    return 2.*estimate"
   ]
  },
  {
   "cell_type": "code",
   "execution_count": 32,
   "metadata": {
    "tags": []
   },
   "outputs": [
    {
     "name": "stdout",
     "output_type": "stream",
     "text": [
      "3.1408069608284657\n"
     ]
    }
   ],
   "source": [
    "print(estimate_pi())  # run with default N = 1000"
   ]
  },
  {
   "cell_type": "markdown",
   "metadata": {},
   "source": [
    "Compute $\\pi$ for different N"
   ]
  },
  {
   "cell_type": "code",
   "execution_count": 34,
   "metadata": {},
   "outputs": [
    {
     "name": "stdout",
     "output_type": "stream",
     "text": [
      "[3.06003454712689, 3.1337091459408963, 3.1408069608284657, 3.1415141108281714, 3.141584799578707]\n"
     ]
    }
   ],
   "source": [
    "Ns = 10**np.arange(1, 6)  # np.arange is similar to the built in range(N) from earlier but allows floats\n",
    "                          # and returns a np.ndarray (somewhat similar to a list) instead of an iterator\n",
    "estimates = [estimate_pi(N) for N in Ns]\n",
    "print(estimates)"
   ]
  },
  {
   "cell_type": "markdown",
   "metadata": {},
   "source": [
    "Calculate the error"
   ]
  },
  {
   "cell_type": "code",
   "execution_count": 35,
   "metadata": {},
   "outputs": [
    {
     "name": "stdout",
     "output_type": "stream",
     "text": [
      "[8.15581065e-02 7.88350765e-03 7.85692761e-04 7.85427616e-05\n",
      " 7.85401109e-06]\n"
     ]
    }
   ],
   "source": [
    "errors = np.abs(np.array(estimates) - np.pi)\n",
    "print(errors) "
   ]
  },
  {
   "cell_type": "markdown",
   "metadata": {},
   "source": [
    "And plot the error scaling"
   ]
  },
  {
   "cell_type": "code",
   "execution_count": 36,
   "metadata": {},
   "outputs": [],
   "source": [
    "import matplotlib.pyplot as plt  # see first exercise\n",
    "%matplotlib inline "
   ]
  },
  {
   "cell_type": "markdown",
   "metadata": {},
   "source": [
    "The `%matplotlib inline` is an \"ipython magic\" command that ensures that plots appear inside the jupyter notebook instead of opening a window with the plot (depending on the local configuration)."
   ]
  },
  {
   "cell_type": "code",
   "execution_count": 38,
   "metadata": {
    "scrolled": false
   },
   "outputs": [
    {
     "data": {
      "image/png": "[encoded data removed]",
      "text/plain": [
       "<Figure size 432x288 with 1 Axes>"
      ]
     },
     "metadata": {
      "needs_background": "light"
     },
     "output_type": "display_data"
    }
   ],
   "source": [
    "plt.loglog(Ns, errors, '-o', label=\"errors\")\n",
    "plt.plot(Ns, 1./Ns, label=\"1/N\")\n",
    "plt.xlabel('N')\n",
    "plt.ylabel('error')\n",
    "plt.legend()\n",
    "plt.show()"
   ]
  },
  {
   "cell_type": "markdown",
   "metadata": {},
   "source": [
    "### Conclusion\n",
    "The error scales as $ \\mathcal{O}(N^{-1})$ as expected!"
   ]
  },
  {
   "cell_type": "markdown",
   "metadata": {},
   "source": [
    "## Short intro to classes and object oriented programming\n",
    "\n",
    "Basic idea:\n",
    "\n",
    "When programming, one often needs certain types of data and functionality repeatedly. For example, let's say we run a grocery store and want a database for it. For all the products we will need similar data like: barcode, price, list of ingredients etc. We will also need certain functionality for all products, e.g. a function that gets the products barcode and returns the price.\n",
    "\n",
    "In principle we can store all this information in lists etc. and write corresponding functions but that quickly leads to long and hard to read code (the infamous \"spaghetti-code\"). Thats why one uses object oriented programming instead. \n",
    "\n",
    "Formally, a class is code with three important ingredients:\n",
    "\n",
    "- Constructors: A function that **creates a new instance** (object) of the class. The input parameters are the initial values of the attributes (barcode,price,... in the example above) of the specific object\n",
    "- Methods: Functions that can be **called on an instance of the class** (like get the price from the barcode). These functions can use the attributes of the object they are called upon\n",
    "- classmethod/staticmethod: Functions that are not called on an instance (usually they provide additional functionality for the class)\n",
    "\n",
    "Wikipedia is actually quite good for the understanding too: https://en.wikipedia.org/wiki/Class_%28computer_programming%29"
   ]
  },
  {
   "cell_type": "code",
   "execution_count": 39,
   "metadata": {},
   "outputs": [],
   "source": [
    "# example introducing the syntax and main points\n",
    "class Vector:\n",
    "    \n",
    "    # constructor, indicated by the \"magic word\" __init__ (a class can also have multiple different constructors)\n",
    "    def __init__(self, data):  # self is the reference to the new object that is created\n",
    "        self.data = data  # the attribute data (self.data) of the object is initialized and assigned the values given by data\n",
    "\n",
    "    # these are methods that we can call on an object\n",
    "    def sum(self):\n",
    "        return sum(self.data)  # sums up the entries of the objects \"data\" attribute referenced by self.data\n",
    "    \n",
    "    def norm(self):\n",
    "        return sum([d**2 for d in self.data])\n",
    "    \n",
    "    # methods that take additional input arguments are also possible\n",
    "    def set_data(self, new_data):\n",
    "        # make sure the dim does not change\n",
    "        assert len(new_data) == len(self.data)\n",
    "        self.data = new_data  # updated data of the vector\n",
    "    \n",
    "    # these are magic methods that override the + and * operation for two instances of the class Vector (self,other)\n",
    "    def __add__(self, other):\n",
    "        assert len(self.data) == len(other.data)\n",
    "        return Vector([x + y for x, y in zip(self.data, other.data)])\n",
    "    \n",
    "    def __mul__(self, other):\n",
    "        assert len(self.data) == len(other.data)\n",
    "        return Vector([x * y for x, y in zip(self.data, other.data)])\n",
    "    \n",
    "    # define how a Vector is converted to string\n",
    "    def __str__(self):\n",
    "        return str(self.data)\n",
    "    \n",
    "    @classmethod\n",
    "    def from_coordinate(cls, point_coords):  # creates the vector from the origin to the point\n",
    "        data = []\n",
    "        for x in point_coords:\n",
    "            data.append(x)\n",
    "        return cls(data)  # returns a vector\n",
    "    \n",
    "    \"\"\"\n",
    "    Classmethods: Always have a reference to the class in first place (cls).\n",
    "    These methods are NOT called on an instance but (generally) use them internally.\n",
    "    For example: Here, a tuple is given to the method but a vector instance is returned\n",
    "    \n",
    "    Staticmethods: Don't have a reference to the class at all\n",
    "    \"\"\"\n",
    "\n",
    "    @staticmethod\n",
    "    def multiply(v1, v2):  # does the same as __mul__ but gets two iterables as input\n",
    "        assert(len(v1) == len(v2))\n",
    "        return [x * y for x, y in zip(v1, v2)]  # returns an array     "
   ]
  },
  {
   "cell_type": "markdown",
   "metadata": {},
   "source": [
    "Examples on how to use classes"
   ]
  },
  {
   "cell_type": "code",
   "execution_count": 40,
   "metadata": {},
   "outputs": [
    {
     "name": "stdout",
     "output_type": "stream",
     "text": [
      "14\n"
     ]
    }
   ],
   "source": [
    "# create a new instance of the Vector class (i.e. a new object)\n",
    "v = Vector([1, 2, 3]) \n",
    "print(v.norm())  # methods can be called on v"
   ]
  },
  {
   "cell_type": "code",
   "execution_count": 41,
   "metadata": {},
   "outputs": [
    {
     "name": "stdout",
     "output_type": "stream",
     "text": [
      "[4, 10, 12]\n"
     ]
    }
   ],
   "source": [
    "# magic methods:\n",
    "w = Vector([4, 5, 4])\n",
    "z = w * v  # only possible due to the __mul__ method\n",
    "print(z.data) "
   ]
  },
  {
   "cell_type": "code",
   "execution_count": 42,
   "metadata": {},
   "outputs": [
    {
     "name": "stdout",
     "output_type": "stream",
     "text": [
      "[3, 1, 4]\n"
     ]
    }
   ],
   "source": [
    "# use classmethod to create a new instance\n",
    "v = Vector.from_coordinate((3, 1, 4)) \n",
    "print(v)  # prints the string that the magic method __str__ returns"
   ]
  },
  {
   "cell_type": "code",
   "execution_count": 43,
   "metadata": {},
   "outputs": [
    {
     "name": "stdout",
     "output_type": "stream",
     "text": [
      "[0, 2, 12]\n"
     ]
    }
   ],
   "source": [
    "# use staticmethod to multiply two vectors given as lists\n",
    "print(Vector.multiply([3, 1, 4], [0, 2, 3]))"
   ]
  },
  {
   "cell_type": "markdown",
   "metadata": {},
   "source": [
    "Inheritance: Classes can \"inherit\" from other classes. This means that constructors and methods from the parent class can be used by the child class. Methods can also be changed (see below) or added "
   ]
  },
  {
   "cell_type": "code",
   "execution_count": 45,
   "metadata": {},
   "outputs": [],
   "source": [
    "class Matrix(Vector):  # the class Matrix inherits from the class Vector\n",
    "    \n",
    "    def __mul__(self, other):  # overrides the * operation from the Vector, calculates Matrix*Vector\n",
    "        result = []\n",
    "        for row in self.data:\n",
    "            result.append((row * other).sum())\n",
    "        return Vector(result)\n",
    "    \n",
    "    # may add additional methods, constructors etc. here"
   ]
  },
  {
   "cell_type": "code",
   "execution_count": 48,
   "metadata": {},
   "outputs": [],
   "source": [
    "# creates a matrix instance (using the constructor of the Vector class)\n",
    "# self.data is now a list containing two Vectors\n",
    "m = Matrix([Vector([1, 2]), Vector([3, 4])]) "
   ]
  },
  {
   "cell_type": "code",
   "execution_count": 49,
   "metadata": {},
   "outputs": [
    {
     "name": "stdout",
     "output_type": "stream",
     "text": [
      "[4.1, 8.3]\n",
      "[1, 2] [3, 4]\n"
     ]
    }
   ],
   "source": [
    "# multiply the matrix m with a Vector\n",
    "# this uses the __mul__ function from the Matrix class\n",
    "prod = m * Vector([0.1, 2])\n",
    "print(prod)  # uses the __str__ method from the Vector class\n",
    "print(m.data[0].data, m.data[1].data)  # can you understand what this prints?"
   ]
  },
  {
   "cell_type": "markdown",
   "metadata": {},
   "source": [
    "Numpy & Scipy\n",
    "-----\n",
    "Don't implement matrices by hand, instead use `numpy` & `scipy` ;-) You can find links to the documentation in the \"help\" menu of the jupyter notebook.\n",
    "Again, tab and shift-tab are your friends..."
   ]
  },
  {
   "cell_type": "code",
   "execution_count": 50,
   "metadata": {},
   "outputs": [],
   "source": [
    "import numpy as np\n",
    "A = np.array([[1, 2], [3, 4]])"
   ]
  },
  {
   "cell_type": "code",
   "execution_count": 51,
   "metadata": {},
   "outputs": [],
   "source": [
    "b = np.array([0.1, 2])"
   ]
  },
  {
   "cell_type": "code",
   "execution_count": 52,
   "metadata": {},
   "outputs": [
    {
     "data": {
      "text/plain": [
       "array([4.1, 8.3])"
      ]
     },
     "execution_count": 52,
     "metadata": {},
     "output_type": "execute_result"
    }
   ],
   "source": [
    "A.dot(b)"
   ]
  },
  {
   "cell_type": "code",
   "execution_count": 53,
   "metadata": {
    "tags": []
   },
   "outputs": [
    {
     "name": "stdout",
     "output_type": "stream",
     "text": [
      "5.477225575051661\n"
     ]
    },
    {
     "data": {
      "text/plain": [
       "(array([-0.37228132,  5.37228132]),\n",
       " array([[-0.82456484, -0.41597356],\n",
       "        [ 0.56576746, -0.90937671]]))"
      ]
     },
     "execution_count": 53,
     "metadata": {},
     "output_type": "execute_result"
    }
   ],
   "source": [
    "print(np.linalg.norm(A))\n",
    "\n",
    "np.linalg.eig(A)"
   ]
  }
 ],
 "metadata": {
  "kernelspec": {
   "display_name": "Python 3 (ipykernel)",
   "language": "python",
   "name": "python3"
  },
  "language_info": {
   "codemirror_mode": {
    "name": "ipython",
    "version": 3
   },
   "file_extension": ".py",
   "mimetype": "text/x-python",
   "name": "python",
   "nbconvert_exporter": "python",
   "pygments_lexer": "ipython3",
   "version": "3.10.6"
  }
 },
 "nbformat": 4,
 "nbformat_minor": 4
}
